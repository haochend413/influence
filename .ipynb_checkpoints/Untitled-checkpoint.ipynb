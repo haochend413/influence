{
 "cells": [
  {
   "cell_type": "code",
   "execution_count": null,
   "id": "4b875021-7e36-4ab7-a0a1-3f795cfbbabc",
   "metadata": {},
   "outputs": [],
   "source": [
    "Pytorch implementation of influence function calculation using stochastic estimation. "
   ]
  },
  {
   "cell_type": "code",
   "execution_count": null,
   "id": "9488a2d7-2fa0-471c-9e82-bc0b803b4f26",
   "metadata": {},
   "outputs": [],
   "source": [
    "# load data \n",
    "from load_mnist import load_mnist, load_small_mnist\n",
    "\n",
    "dataset = load_mnist('data') "
   ]
  }
 ],
 "metadata": {
  "kernelspec": {
   "display_name": "Python 3 (ipykernel)",
   "language": "python",
   "name": "python3"
  },
  "language_info": {
   "codemirror_mode": {
    "name": "ipython",
    "version": 3
   },
   "file_extension": ".py",
   "mimetype": "text/x-python",
   "name": "python",
   "nbconvert_exporter": "python",
   "pygments_lexer": "ipython3",
   "version": "3.13.7"
  }
 },
 "nbformat": 4,
 "nbformat_minor": 5
}
